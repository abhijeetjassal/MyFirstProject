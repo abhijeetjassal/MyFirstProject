{
 "cells": [
  {
   "cell_type": "code",
   "execution_count": 8,
   "metadata": {},
   "outputs": [
    {
     "ename": "ModuleNotFoundError",
     "evalue": "No module named 'streamlit'",
     "output_type": "error",
     "traceback": [
      "\u001b[1;31m---------------------------------------------------------------------------\u001b[0m",
      "\u001b[1;31mModuleNotFoundError\u001b[0m                       Traceback (most recent call last)",
      "Cell \u001b[1;32mIn[8], line 8\u001b[0m\n\u001b[0;32m      6\u001b[0m \u001b[38;5;28;01mimport\u001b[39;00m \u001b[38;5;21;01mnumpy\u001b[39;00m \u001b[38;5;28;01mas\u001b[39;00m \u001b[38;5;21;01mnp\u001b[39;00m\n\u001b[0;32m      7\u001b[0m \u001b[38;5;28;01mimport\u001b[39;00m \u001b[38;5;21;01mdatetime\u001b[39;00m\n\u001b[1;32m----> 8\u001b[0m \u001b[38;5;28;01mimport\u001b[39;00m \u001b[38;5;21;01mstreamlit\u001b[39;00m \u001b[38;5;28;01mas\u001b[39;00m \u001b[38;5;21;01mst\u001b[39;00m\n",
      "\u001b[1;31mModuleNotFoundError\u001b[0m: No module named 'streamlit'"
     ]
    }
   ],
   "source": [
    "# Import necessary libraries\n",
    "import csv\n",
    "import pandas as pd\n",
    "import matplotlib.pyplot as plt\n",
    "import seaborn as sns\n",
    "import numpy as np\n",
    "import datetime\n",
    "import streamlit as st\n"
   ]
  },
  {
   "cell_type": "code",
   "execution_count": null,
   "metadata": {},
   "outputs": [],
   "source": [
    "# Load the csv file and get an overview of the dataframe\n",
    "baggage = pd.read_csv('C:/Users/abhij/Downloads/Commercial_Aviation_-_Mishandled_Baggage_and_Mishandled_Wheelchairs_and_Scooter.csv')\n",
    "print(baggage.head(10))"
   ]
  },
  {
   "cell_type": "code",
   "execution_count": null,
   "metadata": {},
   "outputs": [],
   "source": [
    "# Filter the dataframe to only include data from year 2019 - 2021\n",
    "baggage = baggage[baggage['YEAR'].isin([2019, 2020, 2021])]\n",
    "print(baggage.head())"
   ]
  },
  {
   "cell_type": "code",
   "execution_count": null,
   "metadata": {},
   "outputs": [],
   "source": [
    "# Check for null values in the dataframe\n",
    "print(baggage.isnull())\n",
    "print(baggage.isnull().sum())"
   ]
  },
  {
   "cell_type": "code",
   "execution_count": null,
   "metadata": {},
   "outputs": [],
   "source": [
    "# Remove the column 'PASSENGERS' from the datafram because all its entries are null\n",
    "baggage = baggage.drop(columns = ['PASSENGERS'])\n",
    "print(baggage.head())"
   ]
  },
  {
   "cell_type": "code",
   "execution_count": null,
   "metadata": {},
   "outputs": [],
   "source": [
    "# Check the dataframe for duplicates\n",
    "duplicates = baggage.duplicated()\n",
    "num_duplicates = duplicates.sum()\n",
    "duplicates\n",
    "num_duplicates"
   ]
  },
  {
   "cell_type": "code",
   "execution_count": null,
   "metadata": {},
   "outputs": [],
   "source": [
    "# Check the datatypes of each column in the dataframe\n",
    "baggage.dtypes"
   ]
  },
  {
   "cell_type": "code",
   "execution_count": null,
   "metadata": {},
   "outputs": [],
   "source": [
    "# Get the summary statitics of the dataframe\n",
    "baggage.describe()"
   ]
  },
  {
   "cell_type": "code",
   "execution_count": null,
   "metadata": {},
   "outputs": [],
   "source": [
    "# Calculate average number of mishandled baggage cases per year\n",
    "average_baggage = baggage.groupby('YEAR')['MISHANDLED_BAGGAGE'].mean().reset_index()\n",
    "print(average_baggage)"
   ]
  },
  {
   "cell_type": "code",
   "execution_count": null,
   "metadata": {},
   "outputs": [],
   "source": [
    "# Display the average number of mishandled baggage cases per year\n",
    "colors = ['red', 'green', 'blue']\n",
    "# Plot the average number of mishandled baggage cases per year\n",
    "fig, ax = plt.subplots()\n",
    "bars = ax.bar(average_baggage['YEAR'], average_baggage['MISHANDLED_BAGGAGE'], color=['red', 'green', 'blue'])\n",
    "\n",
    "# Add title and labels\n",
    "ax.set_title('Average Mishandled Baggage Cases per Year')\n",
    "ax.set_xlabel('Year')\n",
    "ax.set_ylabel('Average Number of Mishandled Baggage Cases')\n",
    "ax.set_xticks([2019, 2020, 2021])  # Ensure only the three specified years are included on the x-axis\n",
    "\n",
    "# Label each bar with its value\n",
    "ax.bar_label(bars, fmt='%.2f')\n",
    "plt.show()"
   ]
  },
  {
   "cell_type": "code",
   "execution_count": null,
   "metadata": {},
   "outputs": [],
   "source": [
    "# Display the average mishandled baggage cases per month\n",
    "# Group the data to calculate mishandled cases per month\n",
    "baggage_monthly = baggage.groupby('MONTH')['MISHANDLED_BAGGAGE'].mean().reset_index()\n",
    "\n",
    "# Map numerical month to month names\n",
    "baggage_monthly['MONTH'] = baggage_monthly['MONTH'].apply(lambda x: pd.to_datetime(str(x), format='%m').strftime('%b'))\n",
    "\n",
    "# Sort by month\n",
    "baggage_monthly = baggage_monthly.sort_values(by='MONTH', key=lambda x: pd.to_datetime(x, format='%b'))\n",
    "\n",
    "print(baggage_monthly)\n",
    "\n",
    "\n",
    "\n"
   ]
  },
  {
   "cell_type": "code",
   "execution_count": null,
   "metadata": {},
   "outputs": [],
   "source": [
    "\n",
    "\n",
    "# Plot the average mishandled baggage cases per month\n",
    "plt.figure(figsize=(12,5))\n",
    "plt.plot(baggage_monthly['MONTH'], baggage_monthly['MISHANDLED_BAGGAGE'])\n",
    "plt.title('Average Mishandled Baggage Cases per Month in the years 2019-2021')\n",
    "plt.xlabel('Month')\n",
    "plt.ylabel('Average Number of Mishandled Baggage Cases')\n",
    "plt.grid(True)\n",
    "\n",
    "\n",
    "plt.show()"
   ]
  },
  {
   "cell_type": "code",
   "execution_count": null,
   "metadata": {},
   "outputs": [],
   "source": [
    "# Calculate the total number of mishandled baggages by carrier in US in years 2019-2021\n",
    "baggage_carrier = baggage.groupby('CARRIER_NAME')['MISHANDLED_BAGGAGE'].sum().sort_values(ascending=False)\n",
    "\n",
    "# Display the total mishandled baggage by carrier\n",
    "print(baggage_carrier)\n",
    "\n",
    "\n",
    "# Plot the total mishandled baggage by carrier\n",
    "baggage_carrier.plot(kind='bar', figsize=(10, 6))\n",
    "plt.title('Total Mishandled Baggage Cases by Carrier (2019-2021)')\n",
    "plt.xlabel('Carrier')\n",
    "plt.ylabel('Total Number of Mishandled Baggage Cases (10^6)')\n",
    "plt.show()"
   ]
  },
  {
   "cell_type": "code",
   "execution_count": null,
   "metadata": {},
   "outputs": [],
   "source": [
    "# Create a column showcasing the rate of percentage of misplaced baggage for each carrier\n",
    "baggage['RATE_MISHANDLED'] = baggage['MISHANDLED_BAGGAGE']/baggage['ENPLANED_BAGGAGE'] * 100\n",
    "\n",
    "\n",
    "# Calculate the rate of mishandled baggages by carrier in US in years 2019-2021\n",
    "rate_carrier = baggage.groupby('CARRIER_NAME')['RATE_MISHANDLED'].mean().sort_values(ascending=False)\n",
    "\n",
    "# Display the total mishandled baggage by carrier\n",
    "print(rate_carrier)\n",
    "\n",
    "\n",
    "# Plot the total mishandled baggage by carrier\n",
    "rate_carrier.plot(kind='bar', figsize=(10, 6))\n",
    "plt.title('Rate of Mishandled Baggage Cases by Carrier (2019-2021)')\n",
    "plt.xlabel('Carrier')\n",
    "plt.ylabel('Rate of Mishandled Baggage Cases (%)')\n",
    "plt.show()"
   ]
  },
  {
   "cell_type": "code",
   "execution_count": null,
   "metadata": {},
   "outputs": [],
   "source": [
    "# Calculate average number of mishandled wheelchair cases per year\n",
    "average_wheelchair = baggage.groupby('YEAR')['MISHANDLED_WCHR_SCTR'].mean().reset_index()\n",
    "print(average_wheelchair)\n",
    "\n",
    "# Display the average number of mishandled wheelchair cases per year\n",
    "colors_wheelchair = ['navy', 'orange', 'darkgreen']\n",
    "# Plot the average number of mishandled baggage cases per year\n",
    "fig, ax = plt.subplots()\n",
    "bars_wheelchair = ax.bar(average_wheelchair['YEAR'], average_wheelchair['MISHANDLED_WCHR_SCTR'], color=colors_wheelchair)\n",
    "\n",
    "# Add title and labels\n",
    "ax.set_title('Average Mishandled Wheelchair Cases per Year')\n",
    "ax.set_xlabel('Year')\n",
    "ax.set_ylabel('Average Number of Mishandled Wheelchair Cases')\n",
    "ax.set_xticks([2019, 2020, 2021])  # Ensure only the three specified years are included on the x-axis\n",
    "\n",
    "# Label each bar with its value\n",
    "ax.bar_label(bars_wheelchair, fmt='%.2f')\n",
    "plt.show()"
   ]
  },
  {
   "cell_type": "code",
   "execution_count": null,
   "metadata": {},
   "outputs": [],
   "source": [
    "# Display the average mishandled wheelchair cases per month\n",
    "# Group the data to calculate mishandled cases per month\n",
    "wheelchair_monthly = baggage.groupby('MONTH')['MISHANDLED_WCHR_SCTR'].mean().reset_index()\n",
    "\n",
    "# Map numerical month to month names\n",
    "wheelchair_monthly['MONTH'] = wheelchair_monthly['MONTH'].apply(lambda x: pd.to_datetime(str(x), format='%m').strftime('%b'))\n",
    "\n",
    "# Sort by month\n",
    "wheelchair_monthly = wheelchair_monthly.sort_values(by='MONTH', key=lambda x: pd.to_datetime(x, format='%b'))\n",
    "\n",
    "print(wheelchair_monthly)\n",
    "\n",
    "# Plot the average mishandled baggage cases per month\n",
    "plt.figure(figsize=(12,5))\n",
    "plt.plot(wheelchair_monthly['MONTH'], wheelchair_monthly['MISHANDLED_WCHR_SCTR'])\n",
    "plt.title('Average Mishandled Wheelchair Cases per Month in the years 2019-2021')\n",
    "plt.xlabel('Month')\n",
    "plt.ylabel('Average Number of Mishandled Wheelchair Cases')\n",
    "plt.grid(True)\n",
    "\n",
    "\n",
    "plt.show()"
   ]
  },
  {
   "cell_type": "code",
   "execution_count": null,
   "metadata": {},
   "outputs": [],
   "source": [
    "# Calculate total number of mishandled wheelchair by the carrier in US (2019-2021)\n",
    "wheelchair_carrier = baggage.groupby('CARRIER_NAME')['MISHANDLED_WCHR_SCTR'].sum().sort_values(ascending=False)\n",
    "print(wheelchair_carrier)\n",
    "\n",
    "# Plot the total mishandled wheelchair by carrier\n",
    "wheelchair_carrier.plot(kind='bar', figsize=(10, 6))\n",
    "plt.title('Total Mishandled Wheelchair Cases by Carrier (2019-2021)')\n",
    "plt.xlabel('Carrier')\n",
    "plt.ylabel('Total Number of Mishandled Wheelchair Cases')\n",
    "plt.show()"
   ]
  },
  {
   "cell_type": "code",
   "execution_count": null,
   "metadata": {},
   "outputs": [],
   "source": [
    "# Create a column showcasing the rate of percentage of misplaced wheelchair for each carrier\n",
    "baggage['RATE_WHEELCHAIR'] = baggage['MISHANDLED_WCHR_SCTR']/baggage['ENPLANED_WCHR_SCTR'] * 100\n",
    "\n",
    "\n",
    "# Calculate the rate of mishandled baggages by carrier in US in years 2019-2021\n",
    "rate_carrier_wheelchair = baggage.groupby('CARRIER_NAME')['RATE_WHEELCHAIR'].mean().sort_values(ascending=False)\n",
    "\n",
    "# Display the total mishandled baggage by carrier\n",
    "print(rate_carrier_wheelchair)\n",
    "\n",
    "\n",
    "# Plot the total mishandled baggage by carrier\n",
    "rate_carrier_wheelchair.plot(kind='bar', figsize=(10, 6))\n",
    "plt.title('Rate of Mishandled Wheelchair Cases by Carrier (2019-2021)')\n",
    "plt.xlabel('Carrier')\n",
    "plt.ylabel('Rate of Mishandled Wheelchair Cases (%)')\n",
    "plt.show()"
   ]
  },
  {
   "cell_type": "code",
   "execution_count": null,
   "metadata": {},
   "outputs": [],
   "source": [
    "# Calculate the correlation between mispaced baggage and misplaced wheelchair\n",
    "correlation = baggage[['MISHANDLED_BAGGAGE', 'MISHANDLED_WCHR_SCTR']].corr()\n",
    "print(correlation)\n",
    "\n",
    "# Plot a scatterplot to showcase the correlatiob between misplaced baggage and mispaced wheelchair\n",
    "# Create the scatter plot\n",
    "plt.figure(figsize=(10, 6))\n",
    "sns.regplot(x='MISHANDLED_BAGGAGE', y='MISHANDLED_WCHR_SCTR', data=baggage, scatter_kws={'alpha':0.5})\n",
    "plt.title('Scatter Plot of Mishandled Baggage vs Mishandled Wheelchairs with Regression Line')\n",
    "plt.xlabel('Mishandled Baggage')\n",
    "plt.ylabel('Mishandled Wheelchairs')\n",
    "plt.grid(True)\n",
    "plt.show()"
   ]
  },
  {
   "cell_type": "code",
   "execution_count": null,
   "metadata": {},
   "outputs": [],
   "source": [
    "# Calculate mishandling rates for each carrier\n",
    "carrier_stats = baggage.groupby('CARRIER_NAME').agg({\n",
    "    'MISHANDLED_BAGGAGE': 'sum',\n",
    "    'ENPLANED_BAGGAGE': 'sum',\n",
    "    'MISHANDLED_WCHR_SCTR': 'sum',\n",
    "    'ENPLANED_WCHR_SCTR': 'sum'\n",
    "}).reset_index()\n",
    "\n",
    "carrier_stats['BAGGAGE_MISHANDLED_RATE'] = carrier_stats['MISHANDLED_BAGGAGE'] / carrier_stats['ENPLANED_BAGGAGE']\n",
    "carrier_stats['WCHR_SCTR_MISHANDLED_RATE'] = carrier_stats['MISHANDLED_WCHR_SCTR'] / carrier_stats['ENPLANED_WCHR_SCTR']\n",
    "\n",
    "# Streamlit app\n",
    "st.title('Probability of Mishandling Baggage or Wheelchairs by Carrier')\n",
    "\n",
    "# Select a carrier\n",
    "carrier = st.selectbox('Select a carrier', carrier_stats['CARRIER_NAME'])\n",
    "\n",
    "# Show mishandling rates for the selected carrier\n",
    "selected_carrier_stats = carrier_stats[carrier_stats['CARRIER_NAME'] == carrier]\n",
    "\n",
    "if not selected_carrier_stats.empty:\n",
    "    baggage_mishandling_rate = selected_carrier_stats['BAGGAGE_MISHANDLED_RATE'].values[0]\n",
    "    wchr_sctr_mishandling_rate = selected_carrier_stats['WCHR_SCTR_MISHANDLED_RATE'].values[0]\n",
    "    \n",
    "    st.write(f'Probability of baggage being mishandled: {baggage_mishandling_rate:.2%}')\n",
    "    st.write(f'Probability of wheelchair or scooter being mishandled: {wchr_sctr_mishandling_rate:.2%}')\n",
    "else:\n",
    "    st.write('No data available for the selected carrier.')\n",
    "\n",
    "# Display data table\n",
    "st.write('Mishandling rates for all carriers:')\n",
    "st.dataframe(carrier_stats[['CARRIER_NAME', 'BAGGAGE_MISHANDLED_RATE', 'WCHR_SCTR_MISHANDLED_RATE']])"
   ]
  }
 ],
 "metadata": {
  "kernelspec": {
   "display_name": "Python 3",
   "language": "python",
   "name": "python3"
  },
  "language_info": {
   "codemirror_mode": {
    "name": "ipython",
    "version": 3
   },
   "file_extension": ".py",
   "mimetype": "text/x-python",
   "name": "python",
   "nbconvert_exporter": "python",
   "pygments_lexer": "ipython3",
   "version": "3.11.5"
  }
 },
 "nbformat": 4,
 "nbformat_minor": 2
}
